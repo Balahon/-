{
 "cells": [
  {
   "cell_type": "code",
   "execution_count": 2,
   "id": "8f2f22c9",
   "metadata": {
    "scrolled": true
   },
   "outputs": [
    {
     "data": {
      "image/png": "[encoded data removed]",
      "text/plain": [
       "<Figure size 432x288 with 1 Axes>"
      ]
     },
     "metadata": {
      "needs_background": "light"
     },
     "output_type": "display_data"
    }
   ],
   "source": [
    "# 1. Построение распределений\n",
    "import numpy as np\n",
    "import matplotlib.pyplot as plt\n",
    "\n",
    "Rayleigh = np.random.rayleigh(3.4, 50000)\n",
    "\n",
    "plt.figure()\n",
    "plt.hist(Rayleigh,bins=50,density=True)\n",
    "plt.show()"
   ]
  },
  {
   "cell_type": "code",
   "execution_count": 62,
   "id": "707ec32a",
   "metadata": {},
   "outputs": [],
   "source": [
    "from matplotlib.patches import Polygon"
   ]
  },
  {
   "cell_type": "code",
   "execution_count": 96,
   "id": "3fdf9950",
   "metadata": {},
   "outputs": [
    {
     "data": {
      "image/png": "[encoded data removed]",
      "text/plain": [
       "<Figure size 432x288 with 1 Axes>"
      ]
     },
     "metadata": {
      "needs_background": "light"
     },
     "output_type": "display_data"
    },
    {
     "name": "stdout",
     "output_type": "stream",
     "text": [
      "[-1.0, -1.0, 0.0, 0.0, 1.0, 1.0, -1.1, 1.1] [0.0, 1.0, -1.0, 1.0, 0.0, 1.0, 0.5, 0.5]\n"
     ]
    }
   ],
   "source": [
    "# 2. Построение графика на по функции\n",
    "#  (x^2 + y^2 - 1)^3 - x^2 y^3 = 0\n",
    "x1 = np.arange(-2,2, 0.5)\n",
    "y1 = np.arange(-2,2,0.5)\n",
    "x2=[]\n",
    "y2=[]\n",
    "for x in x1:\n",
    "    for y in y1:\n",
    "        if float((x**2 + y**2 - 1)**3) == float(x**2*y**3):\n",
    "            x2.append(x)\n",
    "            y2.append(y)\n",
    "x2.append(-1.1)\n",
    "y2.append(0.5)\n",
    "x2.append(1.1)\n",
    "y2.append(0.5)\n",
    "x3 = [-1.1,-1.0,-1. -1.0, 0.0, 0.0, 1.0, 1.0, -1, 1.1]\n",
    "y3 = [np.arange(0.5,1.5)]\n",
    "plt.scatter(x2,y2,color=\"red\")\n",
    "ax=plt.gca() \n",
    "ax.set_xlim(-2,2)\n",
    "ax.set_ylim(-2,2)\n",
    "plt.show()\n",
    "print(x2,y2)"
   ]
  },
  {
   "cell_type": "code",
   "execution_count": 83,
   "id": "bb339c57",
   "metadata": {},
   "outputs": [
    {
     "data": {
      "image/png": "[encoded data removed]",
      "text/plain": [
       "<Figure size 432x288 with 1 Axes>"
      ]
     },
     "metadata": {
      "needs_background": "light"
     },
     "output_type": "display_data"
    }
   ],
   "source": [
    "# x1 = np.arange(1,4)\n",
    "# y1 = np.arange(1,4)\n",
    "# for x in x1:\n",
    "#     for y in y1:\n",
    "#         if x == 1:\n",
    "#             plot(x,y)\n",
    "x1=[1,1,1,1,2,3,4,4,4,4,3,2,1]\n",
    "y1=[1,2,3,4,4,4,4,3,2,1,1,1,1]\n",
    "plt.plot(x1,y1)\n",
    "ax=plt.gca() \n",
    "ax.set_xlim(-2,10)\n",
    "ax.set_ylim(-2,10)\n",
    "plt.show()"
   ]
  },
  {
   "cell_type": "code",
   "execution_count": 97,
   "id": "584e1987",
   "metadata": {},
   "outputs": [],
   "source": [
    "age = []\n",
    "sex = []\n",
    "bmi = []\n",
    "children = []\n",
    "smoke = []\n",
    "region = []\n",
    "charhes = []\n",
    "with open(\"./dataset_home.txt\",mode='r') as file:\n",
    "    for human in file.readlines():\n",
    "        age.append(int(human.split(',')[0]))\n",
    "        \n",
    "        if human.split(',')[1] == 'male':\n",
    "            sex.append(1)\n",
    "        else:\n",
    "            sex.append(0)\n",
    "        \n",
    "        bmi.append(float(human.split(',')[2]))\n",
    "        children.append(int(human.split(',')[3]))\n",
    "        \n",
    "        if human.split(',')[4] == 'yes':\n",
    "            smoke.append(1)\n",
    "        else:\n",
    "            smoke.append(0)\n",
    "        \n",
    "        if human.split(',')[5] == 'northwest':\n",
    "            region.append(0)\n",
    "        elif human.split(',')[5] == 'northeast':\n",
    "            region.append(1)\n",
    "        elif human.split(',')[5] == 'southwest':\n",
    "            region.append(2)\n",
    "        elif human.split(',')[5] == 'southeast':\n",
    "            region.append(3)   \n",
    "        else:\n",
    "            region.append(human.split(',')[5])   \n",
    "        \n",
    "        charhes.append(float(human.split(',')[6]))"
   ]
  },
  {
   "cell_type": "code",
   "execution_count": 98,
   "id": "62700553",
   "metadata": {},
   "outputs": [],
   "source": [
    "# 3. Анализ зависимостей\n",
    "age = np.array(age) #возраст\n",
    "sex = np.array(sex) #пол\n",
    "bmi = np.array(bmi) #кэф веса\n",
    "children = np.array(children) #наличие детей\n",
    "smoke = np.array(smoke) #курящ\n",
    "region = np.array(region) #регион\n",
    "charhes = np.array(charhes) #страховка"
   ]
  },
  {
   "cell_type": "code",
   "execution_count": 121,
   "id": "cdf85cdd",
   "metadata": {},
   "outputs": [
    {
     "data": {
      "text/plain": [
       "<matplotlib.collections.PathCollection at 0x2382b5b08b0>"
      ]
     },
     "execution_count": 121,
     "metadata": {},
     "output_type": "execute_result"
    },
    {
     "data": {
      "image/png": "[encoded data removed]",
      "text/plain": [
       "<Figure size 432x288 with 1 Axes>"
      ]
     },
     "metadata": {
      "needs_background": "light"
     },
     "output_type": "display_data"
    }
   ],
   "source": [
    "plt.scatter(charhes,age)\n",
    "# \"Возраст: положительная корреляция с расходами, рост расходов с возрастом\"."
   ]
  },
  {
   "cell_type": "code",
   "execution_count": 129,
   "id": "05fee692",
   "metadata": {},
   "outputs": [
    {
     "data": {
      "text/plain": [
       "(array([ 27.,  80., 129., 153., 142.,  79.,  44.,  11.,   3.,   2.]),\n",
       " array([16.815 , 20.4465, 24.078 , 27.7095, 31.341 , 34.9725, 38.604 ,\n",
       "        42.2355, 45.867 , 49.4985, 53.13  ]),\n",
       " <BarContainer object of 10 artists>)"
      ]
     },
     "execution_count": 129,
     "metadata": {},
     "output_type": "execute_result"
    },
    {
     "data": {
      "image/png": "[encoded data removed]",
      "text/plain": [
       "<Figure size 432x288 with 1 Axes>"
      ]
     },
     "metadata": {
      "needs_background": "light"
     },
     "output_type": "display_data"
    }
   ],
   "source": [
    "plt.hist(bmi)\n",
    "# \"Возраст: зависимость с bmi, рост и снижение веса с возрастом\""
   ]
  },
  {
   "cell_type": "code",
   "execution_count": 132,
   "id": "057623c8",
   "metadata": {},
   "outputs": [
    {
     "data": {
      "text/plain": [
       "<matplotlib.collections.PathCollection at 0x2382bc44f10>"
      ]
     },
     "execution_count": 132,
     "metadata": {},
     "output_type": "execute_result"
    },
    {
     "data": {
      "image/png": "[encoded data removed]",
      "text/plain": [
       "<Figure size 432x288 with 1 Axes>"
      ]
     },
     "metadata": {
      "needs_background": "light"
     },
     "output_type": "display_data"
    }
   ],
   "source": [
    "plt.scatter(region,charhes)\n",
    "# \"Страховка: в разных регионах страховка стоит по разному\""
   ]
  },
  {
   "cell_type": "code",
   "execution_count": 135,
   "id": "1c887c68",
   "metadata": {},
   "outputs": [
    {
     "data": {
      "text/plain": [
       "<matplotlib.collections.PathCollection at 0x2382a2e7310>"
      ]
     },
     "execution_count": 135,
     "metadata": {},
     "output_type": "execute_result"
    },
    {
     "data": {
      "image/png": "[encoded data removed]",
      "text/plain": [
       "<Figure size 432x288 with 1 Axes>"
      ]
     },
     "metadata": {
      "needs_background": "light"
     },
     "output_type": "display_data"
    }
   ],
   "source": [
    "plt.scatter(children, age)\n",
    "# \"Дети: количество детей зависит от возраста\""
   ]
  },
  {
   "cell_type": "code",
   "execution_count": 136,
   "id": "dbb66c7f",
   "metadata": {},
   "outputs": [],
   "source": [
    "# scatter, plot, hist, bar"
   ]
  },
  {
   "cell_type": "code",
   "execution_count": 147,
   "id": "d991fe5f",
   "metadata": {},
   "outputs": [
    {
     "data": {
      "text/plain": [
       "<BarContainer object of 670 artists>"
      ]
     },
     "execution_count": 147,
     "metadata": {},
     "output_type": "execute_result"
    },
    {
     "data": {
      "image/png": "[encoded data removed]",
      "text/plain": [
       "<Figure size 432x288 with 1 Axes>"
      ]
     },
     "metadata": {
      "needs_background": "light"
     },
     "output_type": "display_data"
    }
   ],
   "source": [
    "plt.bar(sex,charhes)"
   ]
  },
  {
   "cell_type": "code",
   "execution_count": null,
   "id": "8217840d",
   "metadata": {},
   "outputs": [],
   "source": []
  }
 ],
 "metadata": {
  "kernelspec": {
   "display_name": "Python 3 (ipykernel)",
   "language": "python",
   "name": "python3"
  },
  "language_info": {
   "codemirror_mode": {
    "name": "ipython",
    "version": 3
   },
   "file_extension": ".py",
   "mimetype": "text/x-python",
   "name": "python",
   "nbconvert_exporter": "python",
   "pygments_lexer": "ipython3",
   "version": "3.8.0"
  }
 },
 "nbformat": 4,
 "nbformat_minor": 5
}
